{
 "cells": [
  {
   "cell_type": "markdown",
   "metadata": {},
   "source": [
    "## Spark on AWS Elastic Map Reduce.\n",
    "The first step to using this is to deploy an aws emr cluster using the spark option.  \n",
    "\n",
    "Then modify the the port setting in the security profile so that port 8192 is exposed and your ssh key pair is set correctlly.  when it comes up login to to the master with \n",
    "<pre>\n",
    "$ssh -i /path-to-your-keyfile/keyfile.pem  hadoop@ipaddress-of-master\n",
    "</pre>\n",
    "next do the following\n",
    "<pre>\n",
    "$sudo pip install ipython[notebook]\n",
    "\n",
    "$ipython profile create default\n",
    "\n",
    "$echo \"c = get_config()\" > /home/hadoop/.ipython/profile_default/ipython_notebook_config.py\n",
    "$echo \"c.NotebookApp.ip = '*'\" >> /home/hadoop/.ipython/profile_default/ipython_notebook_config.py\n",
    "$echo \"c.NotebookApp.open_browser = False\" >> /home/hadoop/.ipython/profile_default/ipython_notebook_config.py\n",
    "$echo \"c.NotebookApp.port = 8192\" >> /home/hadoop/.ipython/profile_default/ipython_notebook_config.py\n",
    "$export PYSPARK_DRIVER_PYTHON=/usr/local/bin/jupyter\n",
    "$export PYSPARK_DRIVER_PYTHON_OPTS=\"notebook\"\n",
    "$export MASTER=yarn\n",
    "</pre>\n",
    "Next create a file called runjup.sh with one line\n",
    "<pre>\n",
    "PYSPARK_DRIVER_PYTHON=/usr/local/bin/jupyter /usr/lib/spark/bin/pyspark --master yarn\n",
    "</pre>\n",
    "(there may be some redundancy here, but this works)\n",
    "finally execute\n",
    "<pre>\n",
    "$nohup ./runjup.sh &\n",
    "</pre>\n",
    "The examples here are based on Wikipedia.   if you want to play with the full wikipedia dump do\n",
    "<pre>\n",
    "$hdadoop fs -mkdir /user/wiki\n",
    "\n",
    "$curl -s -L http://dumps.wikimedia.org/enwiki/20161020/enwiki-20161020-pages-articles-multistream.xml.bz2 \\\n",
    "| bzip2 -cd | hadoop fs -put  - /user/wiki/wikidump-en.xml\n",
    "<\\pre>\n",
    "\n",
    "The first thing we will do is look at a sample of wikipedia access logs from 2008 to 2010. It is a small sample."
   ]
  },
  {
   "cell_type": "code",
   "execution_count": 6,
   "metadata": {
    "collapsed": true
   },
   "outputs": [],
   "source": [
    "import numpy as np\n",
    "import pyspark"
   ]
  },
  {
   "cell_type": "markdown",
   "metadata": {},
   "source": [
    "The spark context should already be there."
   ]
  },
  {
   "cell_type": "code",
   "execution_count": 21,
   "metadata": {
    "collapsed": false
   },
   "outputs": [
    {
     "data": {
      "text/plain": [
       "<pyspark.context.SparkContext at 0x7f1453442850>"
      ]
     },
     "execution_count": 21,
     "metadata": {},
     "output_type": "execute_result"
    }
   ],
   "source": [
    "# what one does on the containerized spark-jupyter is\n",
    "#sc = pyspark.SparkContext('local[*]')\n",
    "#here it is\n",
    "sc"
   ]
  },
  {
   "cell_type": "code",
   "execution_count": 22,
   "metadata": {
    "collapsed": false
   },
   "outputs": [],
   "source": [
    "txtfile = sc.textFile(\"s3://support.elasticmapreduce/bigdatademo/sample/wiki\")"
   ]
  },
  {
   "cell_type": "markdown",
   "metadata": {},
   "source": [
    "Lets make suser we have at least 10 partitions. \n",
    "And split the text lines into lists along blank space separators."
   ]
  },
  {
   "cell_type": "code",
   "execution_count": 11,
   "metadata": {
    "collapsed": true
   },
   "outputs": [],
   "source": [
    "txtfile = txtfile.repartition(10)"
   ]
  },
  {
   "cell_type": "code",
   "execution_count": 23,
   "metadata": {
    "collapsed": true
   },
   "outputs": [],
   "source": [
    "def parseline(line):\n",
    "    return np.array([x for x in line.split(' ')])"
   ]
  },
  {
   "cell_type": "code",
   "execution_count": 24,
   "metadata": {
    "collapsed": true
   },
   "outputs": [],
   "source": [
    "data = txtfile.map(parseline)"
   ]
  },
  {
   "cell_type": "markdown",
   "metadata": {},
   "source": [
    "we are next going to look for the page references that mention famous folks and see how may hits there are."
   ]
  },
  {
   "cell_type": "code",
   "execution_count": 25,
   "metadata": {
    "collapsed": false
   },
   "outputs": [],
   "source": [
    "def filter_fun(row, titles):\n",
    "    for title in titles:\n",
    "        if row[1].find(title) > -1:\n",
    "            return True\n",
    "    else:\n",
    "        return False"
   ]
  },
  {
   "cell_type": "code",
   "execution_count": 26,
   "metadata": {
    "collapsed": true
   },
   "outputs": [],
   "source": [
    "namelist = ['Albert_Einstein','Lady_Gaga','Barack_Obama','Richard_Nixon','Steve_Jobs', 'Bill_Clinton', 'Bill_Gates', 'Michael_Jackson', \n",
    "            'Justin_Bieber','Dante_Alighieri' 'Shakespeare', 'Byron', 'Donald_Trump', 'Hillary_Clinton', 'Werner_Heisenberg',\n",
    "            'Arnold_Schwarzenegger', 'Elon_Musk', 'Nicolas_Sarkozy', 'Vladimir_Putin', 'Vladimir_Lenin', 'Karl_Marx',\n",
    "            'Groucho_Marx']"
   ]
  },
  {
   "cell_type": "code",
   "execution_count": 27,
   "metadata": {
    "collapsed": false
   },
   "outputs": [],
   "source": [
    "filterd = data.filter(lambda p: filter_fun(p, namelist))"
   ]
  },
  {
   "cell_type": "code",
   "execution_count": 28,
   "metadata": {
    "collapsed": true
   },
   "outputs": [],
   "source": [
    "def mapname(row, names):\n",
    "    for name in names:\n",
    "        if row[1].find(name) > -1:\n",
    "            return name\n",
    "    else:\n",
    "        return 'huh?'"
   ]
  },
  {
   "cell_type": "markdown",
   "metadata": {
    "collapsed": true
   },
   "source": [
    "The RDD filtered has only the tuples that contain one of our names in namelist.\n",
    "\n",
    "we next map that to tuples of the form (name, reference count)\n",
    "\n",
    "We then reduce that by the key and sum the counts."
   ]
  },
  {
   "cell_type": "code",
   "execution_count": 30,
   "metadata": {
    "collapsed": false
   },
   "outputs": [],
   "source": [
    "remaped = filterd.map(lambda row: (mapname(row, namelist), int(row[2]) )).reduceByKey(lambda v1, v2: v1+v2)"
   ]
  },
  {
   "cell_type": "code",
   "execution_count": 13,
   "metadata": {
    "collapsed": false
   },
   "outputs": [
    {
     "data": {
      "text/plain": [
       "[('Lady_Gaga', 4427),\n",
       " ('Bill_Clinton', 4221),\n",
       " ('Michael_Jackson', 3310),\n",
       " ('Barack_Obama', 2518),\n",
       " ('Justin_Bieber', 2234),\n",
       " ('Albert_Einstein', 1609),\n",
       " ('Byron', 964),\n",
       " ('Karl_Marx', 892),\n",
       " ('Arnold_Schwarzenegger', 820),\n",
       " ('Bill_Gates', 799),\n",
       " ('Steve_Jobs', 613),\n",
       " ('Vladimir_Putin', 563),\n",
       " ('Richard_Nixon', 509),\n",
       " ('Vladimir_Lenin', 283),\n",
       " ('Donald_Trump', 272),\n",
       " ('Nicolas_Sarkozy', 171),\n",
       " ('Hillary_Clinton', 162),\n",
       " ('Groucho_Marx', 152),\n",
       " ('Werner_Heisenberg', 92),\n",
       " ('Elon_Musk', 21)]"
      ]
     },
     "execution_count": 13,
     "metadata": {},
     "output_type": "execute_result"
    }
   ],
   "source": [
    "remaped.takeOrdered(100, key  = lambda x: -x[1])"
   ]
  },
  {
   "cell_type": "code",
   "execution_count": null,
   "metadata": {
    "collapsed": true
   },
   "outputs": [],
   "source": [
    "What happens if we look for just part of the name?    "
   ]
  },
  {
   "cell_type": "code",
   "execution_count": 14,
   "metadata": {
    "collapsed": false
   },
   "outputs": [],
   "source": [
    "snamelist = ['Einstein','Gaga','Obama','Nixon','Jobs', 'Clinton', 'Gates', 'Jackson', \n",
    "            'Bieber','Dante', 'Shakespeare', 'Byron', 'Trump', 'Heisenberg',\n",
    "            'Schwarzenegger', 'Musk', 'Sarkozy', 'Putin', 'Lenin', 'Marx',\n",
    "            'Marx']"
   ]
  },
  {
   "cell_type": "code",
   "execution_count": 102,
   "metadata": {
    "collapsed": false
   },
   "outputs": [
    {
     "data": {
      "text/plain": [
       "[('Jackson', 17056),\n",
       " ('Dante', 7289),\n",
       " ('Clinton', 6923),\n",
       " ('Gaga', 5527),\n",
       " ('Obama', 3563),\n",
       " ('Marx', 2548),\n",
       " ('Einstein', 2291),\n",
       " ('Bieber', 2284),\n",
       " ('Gates', 2124),\n",
       " ('Shakespeare', 1867),\n",
       " ('Nixon', 1344),\n",
       " ('Lenin', 1343),\n",
       " ('Trump', 984),\n",
       " ('Byron', 964),\n",
       " ('Schwarzenegger', 906),\n",
       " ('Musk', 861),\n",
       " ('Jobs', 830),\n",
       " ('Putin', 723),\n",
       " ('Sarkozy', 297),\n",
       " ('Heisenberg', 149)]"
      ]
     },
     "execution_count": 102,
     "metadata": {},
     "output_type": "execute_result"
    }
   ],
   "source": [
    "sfilterd = data.filter(lambda p: filter_fun(p, snamelist))\n",
    "sremaped = sfilterd.map(lambda row: (mapname(row, snamelist), int(row[2]) )).reduceByKey(lambda v1, v2: v1+v2)\n",
    "sremaped.takeOrdered(100, key  = lambda x: -x[1])"
   ]
  },
  {
   "cell_type": "markdown",
   "metadata": {
    "collapsed": false
   },
   "source": [
    "let's see how many page references there are here.  we can delete pages with non readable titles."
   ]
  },
  {
   "cell_type": "code",
   "execution_count": 27,
   "metadata": {
    "collapsed": false
   },
   "outputs": [],
   "source": [
    "bdata = data.map(lambda row: (row[1], int(row[2])))"
   ]
  },
  {
   "cell_type": "code",
   "execution_count": 28,
   "metadata": {
    "collapsed": false
   },
   "outputs": [],
   "source": [
    "cdata = bdata.filter(lambda p:  p[0].find('%') < 0)"
   ]
  },
  {
   "cell_type": "code",
   "execution_count": 29,
   "metadata": {
    "collapsed": false
   },
   "outputs": [
    {
     "data": {
      "text/plain": [
       "[(u'Special:WhatLinksHere/MediaWiki:Group-Ombudsmen', 1),\n",
       " (u'MediaWiki:Ipbexpiry', 1),\n",
       " (u'Wikipedia:Community_Portal', 1),\n",
       " (u'Antartika', 2),\n",
       " (u'Baku', 2),\n",
       " (u'Berkas:Coat_of_Amrs_of_Bashkortostan.svg', 1),\n",
       " (u'Berkas:Destroyed_Warsaw,_capital_of_Poland,_January_1945.jpg', 1),\n",
       " (u'Berkas:Flag_of_Omsk_Oblast.svg', 1),\n",
       " (u'Berkas:Mongolia_Topography.png', 1),\n",
       " (u'Berkas:Southeast_asia.svg', 1),\n",
       " (u'Berkas:Waterfallweh.jpg', 1),\n",
       " (u'Busan', 1),\n",
       " (u'Dublin', 1),\n",
       " (u'Haeju', 2),\n",
       " (u'Hyesan', 1),\n",
       " (u'Istimewa:Penggunaan_global/Crystal_Clear_action_run.png', 1),\n",
       " (u'Istimewa:Pranala_balik/Berkas:Flag_of_Smolensk_Oblast.png', 1),\n",
       " (u'Istimewa:Pranala_balik/Berkas:User_Abigor_global1.jpg', 1),\n",
       " (u'Jeollanam-do', 1),\n",
       " (u'Kategori:Neugara', 1),\n",
       " (u'Lithuania', 1),\n",
       " (u'P', 1),\n",
       " (u'Sipak_Bhan', 1),\n",
       " (u'Tokyo', 1),\n",
       " (u'islamabad', 1),\n",
       " (u'Gebruiker:Az1568', 1),\n",
       " (u'MediaWiki:Import-logentry-upload', 1),\n",
       " (u'Spesiaal:OnlangseVeranderingsMetSkakels/MediaWiki:Editgroup', 1),\n",
       " (u'Spesiaal:Recentchangeslinked/MediaWiki:Exif-componentsconfiguration-3', 1),\n",
       " (u'Spesiaal:Recentchangeslinked/Wikibooks:Community_Portal', 1),\n",
       " (u'Spesiaal:Skakels_hierheen/MediaWiki:Nosuchactiontext', 1),\n",
       " (u'Spesiaal:WhatLinksHere/MediaWiki:Wikititlesuffix', 1),\n",
       " (u'user:Renier_Maritz', 1),\n",
       " (u'15_Junie', 1),\n",
       " (u'Cathy', 1),\n",
       " (u'Etruskers', 1),\n",
       " (u'Gebruiker:Laurens', 1),\n",
       " (u'Gebruikerbespreking:Spacebirdy', 1),\n",
       " (u'Hulp:geslag', 1),\n",
       " (u'Jamani', 1),\n",
       " (u'Kategorie:Gebruiker_lb-2', 1),\n",
       " (u'Kategorie:Woorde_in_Galicies', 1),\n",
       " (u'Kategorie:Woorde_in_Roemeens', 1),\n",
       " (u'November', 1),\n",
       " (u'Sjabloon:aie', 1),\n",
       " (u'Spesiaal:GlobalUsage/Wikiquote-logo.svg', 1),\n",
       " (u'Spesiaal:OnlangseVeranderingsMetSkakels/AKE', 1),\n",
       " (u'Spesiaal:OnlangseVeranderingsMetSkakels/Afrikan', 1),\n",
       " (u'Spesiaal:OnlangseVeranderingsMetSkakels/Bulgaars', 1),\n",
       " (u'Spesiaal:OnlangseVeranderingsMetSkakels/English', 1),\n",
       " (u'Spesiaal:OnlangseVeranderingsMetSkakels/Gebruiker:Szajci', 1),\n",
       " (u'Spesiaal:OnlangseVeranderingsMetSkakels/Japans', 1),\n",
       " (u'Spesiaal:OnlangseVeranderingsMetSkakels/Kategorie:Sjinese_skryftekens', 1),\n",
       " (u'Spesiaal:OnlangseVeranderingsMetSkakels/Kategorie:Woorde_in_Ou_Hoogduits',\n",
       "  1),\n",
       " (u'Spesiaal:OnlangseVeranderingsMetSkakels/Libro_de_Mormon', 1),\n",
       " (u'Spesiaal:OnlangseVeranderingsMetSkakels/Nieu-Noors', 1),\n",
       " (u'Spesiaal:OnlangseVeranderingsMetSkakels/Ou_Hoogduits', 1),\n",
       " (u'Spesiaal:OnlangseVeranderingsMetSkakels/Sjabloon:-gl-', 1),\n",
       " (u'Spesiaal:OnlangseVeranderingsMetSkakels/Sjabloon:betekenisse', 1),\n",
       " (u'Spesiaal:OnlangseVeranderingsMetSkakels/Stiftung', 1),\n",
       " (u'Spesiaal:OnlangseVeranderingsMetSkakels/WikiWoordenboek', 1),\n",
       " (u'Spesiaal:OnlangseVeranderingsMetSkakels/africain', 1),\n",
       " (u'Spesiaal:OnlangseVeranderingsMetSkakels/balo', 1),\n",
       " (u'Spesiaal:OnlangseVeranderingsMetSkakels/dalur', 1),\n",
       " (u'Spesiaal:OnlangseVeranderingsMetSkakels/eau', 1),\n",
       " (u'Spesiaal:OnlangseVeranderingsMetSkakels/ewe', 1),\n",
       " (u'Spesiaal:OnlangseVeranderingsMetSkakels/garoto', 1),\n",
       " (u'Spesiaal:OnlangseVeranderingsMetSkakels/interlingua', 1),\n",
       " (u'Spesiaal:OnlangseVeranderingsMetSkakels/jade', 1),\n",
       " (u'Spesiaal:OnlangseVeranderingsMetSkakels/land', 1),\n",
       " (u'Spesiaal:OnlangseVeranderingsMetSkakels/meisje', 1),\n",
       " (u'Spesiaal:OnlangseVeranderingsMetSkakels/nafn', 1),\n",
       " (u'Spesiaal:OnlangseVeranderingsMetSkakels/olho', 1),\n",
       " (u'Spesiaal:OnlangseVeranderingsMetSkakels/papiamento', 1),\n",
       " (u'Spesiaal:OnlangseVeranderingsMetSkakels/sech', 1),\n",
       " (u'Spesiaal:OnlangseVeranderingsMetSkakels/xoves', 1),\n",
       " (u'Spesiaal:RecentChangesLinked/AHI', 1),\n",
       " (u'Spesiaal:RecentChangesLinked/Afrikanca', 1),\n",
       " (u'Spesiaal:RecentChangesLinked/Danicus', 1),\n",
       " (u'Spesiaal:RecentChangesLinked/Gebruiker:Emijrp', 1),\n",
       " (u'Spesiaal:RecentChangesLinked/Grieks', 1),\n",
       " (u'Spesiaal:RecentChangesLinked/Kategorie:Robotte', 1),\n",
       " (u'Spesiaal:RecentChangesLinked/Kiafrikana', 1),\n",
       " (u'Spesiaal:RecentChangesLinked/Ou_Fries', 1),\n",
       " (u'Spesiaal:RecentChangesLinked/Sjabloon:-ur-', 1),\n",
       " (u'Spesiaal:RecentChangesLinked/Spaans', 1),\n",
       " (u'Spesiaal:RecentChangesLinked/adresse', 1),\n",
       " (u'Spesiaal:RecentChangesLinked/aqua', 1),\n",
       " (u'Spesiaal:RecentChangesLinked/basis', 1),\n",
       " (u'Spesiaal:RecentChangesLinked/cras', 1),\n",
       " (u'Spesiaal:RecentChangesLinked/eiginkona', 1),\n",
       " (u'Spesiaal:RecentChangesLinked/francese', 1),\n",
       " (u'Spesiaal:RecentChangesLinked/intransitive', 1),\n",
       " (u'Spesiaal:RecentChangesLinked/kameelperd', 1),\n",
       " (u'Spesiaal:RecentChangesLinked/liber', 1),\n",
       " (u'Spesiaal:RecentChangesLinked/nom', 1),\n",
       " (u'Spesiaal:RecentChangesLinked/septembre', 1),\n",
       " (u'Spesiaal:RecentChangesLinked/substantiv', 1),\n",
       " (u'Spesiaal:RecentChangesLinked/tylko', 1),\n",
       " (u'Spesiaal:RecentChangesLinked/yes', 1)]"
      ]
     },
     "execution_count": 29,
     "metadata": {},
     "output_type": "execute_result"
    }
   ],
   "source": [
    "cdata.take(100)"
   ]
  },
  {
   "cell_type": "code",
   "execution_count": 48,
   "metadata": {
    "collapsed": false
   },
   "outputs": [
    {
     "data": {
      "text/plain": [
       "3240116"
      ]
     },
     "execution_count": 48,
     "metadata": {},
     "output_type": "execute_result"
    }
   ],
   "source": [
    "cdata.count()"
   ]
  },
  {
   "cell_type": "markdown",
   "metadata": {},
   "source": [
    "### Now look at full wikipedia dump from HDFS\n",
    "these are xml file with one line per file line.   \n",
    "we can extract the titles of each of the listings"
   ]
  },
  {
   "cell_type": "code",
   "execution_count": 33,
   "metadata": {
    "collapsed": true
   },
   "outputs": [],
   "source": [
    "wikidump = sc.textFile(\"hdfs:///user/wiki/wikidump-en.xml\")"
   ]
  },
  {
   "cell_type": "code",
   "execution_count": 38,
   "metadata": {
    "collapsed": false
   },
   "outputs": [
    {
     "data": {
      "text/plain": [
       "927769981"
      ]
     },
     "execution_count": 38,
     "metadata": {},
     "output_type": "execute_result"
    }
   ],
   "source": [
    "wikidump.count()"
   ]
  },
  {
   "cell_type": "code",
   "execution_count": 40,
   "metadata": {
    "collapsed": false
   },
   "outputs": [
    {
     "data": {
      "text/plain": [
       "441"
      ]
     },
     "execution_count": 40,
     "metadata": {},
     "output_type": "execute_result"
    }
   ],
   "source": [
    "wikidump.getNumPartitions()"
   ]
  },
  {
   "cell_type": "code",
   "execution_count": 42,
   "metadata": {
    "collapsed": false
   },
   "outputs": [],
   "source": [
    "def findtitle(line):\n",
    "    if line.find('<title>') > -1:\n",
    "        return True\n",
    "    else:\n",
    "        return False"
   ]
  },
  {
   "cell_type": "code",
   "execution_count": 43,
   "metadata": {
    "collapsed": true
   },
   "outputs": [],
   "source": [
    "titles = wikidump.filter(lambda p: findtitle(p))"
   ]
  },
  {
   "cell_type": "code",
   "execution_count": 45,
   "metadata": {
    "collapsed": false,
    "scrolled": true
   },
   "outputs": [
    {
     "data": {
      "text/plain": [
       "17008269"
      ]
     },
     "execution_count": 45,
     "metadata": {},
     "output_type": "execute_result"
    }
   ],
   "source": [
    "titles.count()"
   ]
  },
  {
   "cell_type": "code",
   "execution_count": 46,
   "metadata": {
    "collapsed": false
   },
   "outputs": [
    {
     "data": {
      "text/plain": [
       "PythonRDD[29] at RDD at PythonRDD.scala:48"
      ]
     },
     "execution_count": 46,
     "metadata": {},
     "output_type": "execute_result"
    }
   ],
   "source": [
    "titles.cache()"
   ]
  },
  {
   "cell_type": "code",
   "execution_count": 47,
   "metadata": {
    "collapsed": false
   },
   "outputs": [
    {
     "data": {
      "text/plain": [
       "[u'    <title>AccessibleComputing</title>',\n",
       " u'    <title>Anarchism</title>',\n",
       " u'    <title>AfghanistanHistory</title>',\n",
       " u'    <title>AfghanistanGeography</title>',\n",
       " u'    <title>AfghanistanPeople</title>',\n",
       " u'    <title>AfghanistanCommunications</title>',\n",
       " u'    <title>AfghanistanTransportations</title>',\n",
       " u'    <title>AfghanistanMilitary</title>',\n",
       " u'    <title>AfghanistanTransnationalIssues</title>',\n",
       " u'    <title>AssistiveTechnology</title>',\n",
       " u'    <title>AmoeboidTaxa</title>',\n",
       " u'    <title>Autism</title>',\n",
       " u'    <title>AlbaniaHistory</title>',\n",
       " u'    <title>AlbaniaPeople</title>',\n",
       " u'    <title>AsWeMayThink</title>',\n",
       " u'    <title>AlbaniaGovernment</title>',\n",
       " u'    <title>AlbaniaEconomy</title>',\n",
       " u'    <title>Albedo</title>',\n",
       " u'    <title>AfroAsiaticLanguages</title>',\n",
       " u'    <title>ArtificalLanguages</title>',\n",
       " u'    <title>AbacuS</title>',\n",
       " u'    <title>AbalonE</title>',\n",
       " u'    <title>AbbadideS</title>',\n",
       " u'    <title>AbbesS</title>',\n",
       " u'    <title>AbbevilleFrance</title>',\n",
       " u'    <title>AbbeY</title>',\n",
       " u'    <title>AbboT</title>',\n",
       " u'    <title>Abbreviations</title>',\n",
       " u'    <title>AtlasShrugged</title>',\n",
       " u'    <title>ArtificialLanguages</title>',\n",
       " u'    <title>AtlasShruggedCharacters</title>',\n",
       " u'    <title>AtlasShruggedCompanies</title>',\n",
       " u'    <title>AyersMusicPublishingCompany</title>',\n",
       " u'    <title>AfricanAmericanPeople</title>',\n",
       " u'    <title>AdolfHitler</title>',\n",
       " u'    <title>AbeceDarians</title>',\n",
       " u'    <title>AbeL</title>',\n",
       " u'    <title>AbensbergGermany</title>',\n",
       " u'    <title>AberdeenSouthDakota</title>',\n",
       " u'    <title>ArthurKoestler</title>',\n",
       " u'    <title>AynRand</title>',\n",
       " u'    <title>AlexanderTheGreat</title>',\n",
       " u'    <title>AnchorageAlaska</title>',\n",
       " u'    <title>ArgumentForms</title>',\n",
       " u'    <title>ArgumentsForTheExistenceOfGod</title>',\n",
       " u'    <title>AnarchY</title>',\n",
       " u'    <title>AsciiArt</title>',\n",
       " u'    <title>AcademyAwards</title>',\n",
       " u'    <title>AcademyAwards/BestPicture</title>',\n",
       " u'    <title>AustriaLanguage</title>',\n",
       " u'    <title>AcademicElitism</title>',\n",
       " u'    <title>AxiomOfChoice</title>',\n",
       " u'    <title>AmericanFootball</title>',\n",
       " u'    <title>AnnaKournikova</title>',\n",
       " u'    <title>AndorrA</title>',\n",
       " u'    <title>AustroAsiaticLanguages</title>',\n",
       " u'    <title>ActresseS</title>',\n",
       " u'    <title>A</title>',\n",
       " u'    <title>AnarchoCapitalism</title>',\n",
       " u'    <title>AnarchoCapitalists</title>',\n",
       " u'    <title>ActressesS</title>',\n",
       " u'    <title>AnAmericanInParis</title>',\n",
       " u'    <title>AutoMorphism</title>',\n",
       " u'    <title>ActionFilm</title>',\n",
       " u'    <title>Alabama</title>',\n",
       " u'    <title>AfricA</title>',\n",
       " u'    <title>Achilles</title>',\n",
       " u'    <title>AppliedStatistics</title>',\n",
       " u'    <title>Abraham Lincoln</title>',\n",
       " u'    <title>Aristotle</title>',\n",
       " u'    <title>An American in Paris</title>',\n",
       " u'    <title>Academy Award for Best Production Design</title>',\n",
       " u'    <title>Academy Awards</title>',\n",
       " u'    <title>Action Film</title>',\n",
       " u'    <title>Actrius</title>',\n",
       " u'    <title>Animalia (book)</title>',\n",
       " u'    <title>International Atomic Time</title>',\n",
       " u'    <title>Altruism</title>',\n",
       " u'    <title>AutoRacing</title>',\n",
       " u'    <title>Ayn Rand</title>',\n",
       " u'    <title>Alain Connes</title>',\n",
       " u'    <title>Allan Dwan</title>',\n",
       " u'    <title>Algeria/People</title>',\n",
       " u'    <title>Algeria/Transnational Issues</title>',\n",
       " u'    <title>Algeria</title>',\n",
       " u'    <title>List of Atlas Shrugged characters</title>',\n",
       " u'    <title>Topics of note in Atlas Shrugged</title>',\n",
       " u'    <title>Anthropology</title>',\n",
       " u'    <title>Agricultural science</title>',\n",
       " u'    <title>Alchemy</title>',\n",
       " u'    <title>Air Transport</title>',\n",
       " u'    <title>Alien</title>',\n",
       " u'    <title>Astronomer</title>',\n",
       " u'    <title>Ameboid stage</title>',\n",
       " u'    <title>ASCII</title>',\n",
       " u'    <title>Ashmore And Cartier Islands</title>',\n",
       " u'    <title>Austin (disambiguation)</title>',\n",
       " u'    <title>Animation</title>',\n",
       " u'    <title>Apollo</title>',\n",
       " u'    <title>Andre Agassi</title>',\n",
       " u'    <title>Artificial languages</title>',\n",
       " u'    <title>Austroasiatic languages</title>',\n",
       " u'    <title>Afro-asiatic languages</title>',\n",
       " u'    <title>Afroasiatic languages</title>',\n",
       " u'    <title>Andorra</title>',\n",
       " u'    <title>Andorra/Transnational issues</title>',\n",
       " u'    <title>Arithmetic mean</title>',\n",
       " u'    <title>American Football Conference</title>',\n",
       " u'    <title>Albert Gore</title>',\n",
       " u'    <title>AnEnquiryConcerningHumanUnderstanding</title>',\n",
       " u'    <title>Animal Farm</title>',\n",
       " u'    <title>Amphibian</title>',\n",
       " u'    <title>Albert Arnold Gore/Criticisms</title>',\n",
       " u'    <title>Alaska</title>',\n",
       " u'    <title>Auteur Theory Film</title>',\n",
       " u'    <title>Agriculture</title>',\n",
       " u'    <title>Aldous Huxley</title>',\n",
       " u'    <title>Abstract Algebra</title>',\n",
       " u'    <title>Ada</title>',\n",
       " u'    <title>Aberdeen (disambiguation)</title>',\n",
       " u'    <title>Algae</title>',\n",
       " u'    <title>Analysis of variance</title>',\n",
       " u'    <title>ANOVA</title>',\n",
       " u'    <title>Alkane</title>',\n",
       " u'    <title>Appellate procedure in the United States</title>',\n",
       " u'    <title>Answer</title>',\n",
       " u'    <title>Appellate court</title>',\n",
       " u'    <title>Arithmetic and logic unit</title>',\n",
       " u'    <title>Actress</title>',\n",
       " u'    <title>Arraignment</title>',\n",
       " u'    <title>America the Beautiful</title>',\n",
       " u'    <title>Assistive technology</title>',\n",
       " u'    <title>Accessible computing</title>',\n",
       " u'    <title>Abacus</title>',\n",
       " u'    <title>Acid</title>',\n",
       " u'    <title>Asphalt</title>',\n",
       " u'    <title>American National Standards Institute</title>',\n",
       " u'    <title>Argument (disambiguation)</title>',\n",
       " u'    <title>Apollo 11</title>',\n",
       " u'    <title>Apollo 8</title>',\n",
       " u'    <title>Astronaut</title>',\n",
       " u'    <title>A Modest Proposal</title>',\n",
       " u'    <title>Alkali metal</title>',\n",
       " u'    <title>Argument form</title>',\n",
       " u'    <title>Allotrope</title>',\n",
       " u'    <title>Alphabet</title>',\n",
       " u'    <title>Atomic number</title>',\n",
       " u'    <title>Anatomy</title>',\n",
       " u'    <title>Affirming the consequent</title>',\n",
       " u'    <title>Andrei Tarkovsky</title>',\n",
       " u'    <title>Ambiguity</title>',\n",
       " u'    <title>Abel</title>',\n",
       " u'    <title>Animal (disambiguation)</title>',\n",
       " u'    <title>Aardvark</title>',\n",
       " u'    <title>Aardwolf</title>',\n",
       " u'    <title>Adobe</title>',\n",
       " u'    <title>Adventure</title>',\n",
       " u'    <title>Amaltheia</title>',\n",
       " u'    <title>Analysis of Variance</title>',\n",
       " u'    <title>Asia</title>',\n",
       " u'    <title>Aruba</title>',\n",
       " u'    <title>Articles of Confederation</title>',\n",
       " u'    <title>Archaeology/Broch</title>',\n",
       " u'    <title>Asia Minor (disambiguation)</title>',\n",
       " u'    <title>Aa River</title>',\n",
       " u'    <title>Atlantic Ocean</title>',\n",
       " u'    <title>Arthur Schopenhauer</title>',\n",
       " u'    <title>Angola</title>',\n",
       " u'    <title>Demographics of Angola</title>',\n",
       " u'    <title>Politics of Angola</title>',\n",
       " u'    <title>Economy of Angola</title>',\n",
       " u'    <title>Transport in Angola</title>',\n",
       " u'    <title>Angolan Armed Forces</title>',\n",
       " u'    <title>Foreign relations of Angola</title>',\n",
       " u'    <title>Albert Sidney Johnston</title>',\n",
       " u'    <title>Android (robot)</title>',\n",
       " u'    <title>Alberta</title>',\n",
       " u'    <title>Wikipedia:Adding Wikipedia articles to Nupedia</title>',\n",
       " u'    <title>Astronomy/History</title>',\n",
       " u'    <title>List of anthropologists</title>',\n",
       " u'    <title>Astronomy and Astrophysics/History</title>',\n",
       " u'    <title>Actinopterygii</title>',\n",
       " u'    <title>Al Gore/Criticisms</title>',\n",
       " u'    <title>Albert Einstein</title>',\n",
       " u'    <title>Afghanistan</title>',\n",
       " u'    <title>Albania</title>',\n",
       " u'    <title>Allah</title>',\n",
       " u'    <title>Algorithms (journal)</title>',\n",
       " u'    <title>Antigua And Barbuda</title>',\n",
       " u'    <title>Azerbaijan</title>',\n",
       " u'    <title>Amateur astronomy</title>',\n",
       " u'    <title>Astronomers and Astrophysicists</title>',\n",
       " u'    <title>Aikido</title>',\n",
       " u'    <title>Art</title>',\n",
       " u'    <title>Albania/History</title>',\n",
       " u'    <title>Albania/Transnational Issues</title>',\n",
       " u'    <title>Albania/People</title>',\n",
       " u'    <title>Albania/Foreign relations</title>',\n",
       " u'    <title>Agnostida</title>',\n",
       " u'    <title>Abortion</title>']"
      ]
     },
     "execution_count": 47,
     "metadata": {},
     "output_type": "execute_result"
    }
   ],
   "source": [
    "titles.take(200)"
   ]
  },
  {
   "cell_type": "markdown",
   "metadata": {
    "collapsed": true
   },
   "source": [
    "To get more from the wikipedia xml files you need to seperate the lines for each xml file and then parse the xml to something spark can process."
   ]
  },
  {
   "cell_type": "code",
   "execution_count": null,
   "metadata": {
    "collapsed": true
   },
   "outputs": [],
   "source": []
  }
 ],
 "metadata": {
  "kernelspec": {
   "display_name": "Python 2",
   "language": "python",
   "name": "python2"
  },
  "language_info": {
   "codemirror_mode": {
    "name": "ipython",
    "version": 2
   },
   "file_extension": ".py",
   "mimetype": "text/x-python",
   "name": "python",
   "nbconvert_exporter": "python",
   "pygments_lexer": "ipython2",
   "version": "2.7.12"
  }
 },
 "nbformat": 4,
 "nbformat_minor": 2
}
